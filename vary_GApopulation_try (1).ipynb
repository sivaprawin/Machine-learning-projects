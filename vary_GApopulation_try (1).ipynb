{
  "cells": [
    {
      "cell_type": "markdown",
      "metadata": {
        "colab_type": "text",
        "id": "view-in-github"
      },
      "source": [
        "<a href=\"https://colab.research.google.com/github/sivaprawin/Machine-learning-projects/blob/main/vary_GApopulation_try.ipynb\" target=\"_parent\"><img src=\"https://colab.research.google.com/assets/colab-badge.svg\" alt=\"Open In Colab\"/></a>"
      ]
    },
    {
      "cell_type": "code",
      "execution_count": 4,
      "metadata": {},
      "outputs": [],
      "source": [
        "import os\n",
        "import numpy as np\n",
        "import tensorflow as tf\n",
        "from tensorflow.keras.preprocessing.image import ImageDataGenerator\n",
        "from tensorflow.keras.applications import ResNet50, VGG19, InceptionV3\n",
        "from tensorflow.keras.models import Model\n",
        "from tensorflow.keras.preprocessing import image\n",
        "from tensorflow.keras.applications.resnet50 import preprocess_input as resnet_preprocess_input\n",
        "from tensorflow.keras.applications.vgg19 import preprocess_input as vgg_preprocess_input\n",
        "from tensorflow.keras.applications.inception_v3 import preprocess_input as inception_preprocess_input\n",
        "from sklearn.model_selection import train_test_split\n",
        "from sklearn.neighbors import KNeighborsClassifier\n",
        "from sklearn.metrics import confusion_matrix, precision_score, recall_score, f1_score\n",
        "import seaborn as sns\n",
        "import matplotlib.pyplot as plt\n"
      ]
    },
    {
      "cell_type": "code",
      "execution_count": null,
      "metadata": {
        "colab": {
          "base_uri": "https://localhost:8080/"
        },
        "id": "o2LmlAzrSi0R",
        "outputId": "9cc4cf70-87d7-4d36-9314-c453d1b4c542"
      },
      "outputs": [],
      "source": [
        "import os\n",
        "import numpy as np\n",
        "import tensorflow as tf\n",
        "from tensorflow.keras.preprocessing.image import ImageDataGenerator\n",
        "from tensorflow.keras.applications import ResNet50, VGG19, InceptionV3\n",
        "from tensorflow.keras.preprocessing import image\n",
        "from tensorflow.keras.applications.resnet50 import preprocess_input as resnet_preprocess_input\n",
        "from tensorflow.keras.applications.vgg19 import preprocess_input as vgg_preprocess_input\n",
        "from tensorflow.keras.applications.inception_v3 import preprocess_input as inception_preprocess_input\n",
        "\n",
        "# Define the path to your mounted drive containing \"healthy\" and \"patient\" folders\n",
        "data_dir = 'D:/vs mini/dataset2'\n",
        "\n",
        "# Define a directory to save the preprocessed images in Colab's file system\n",
        "preprocessed_images_dir = 'D:/vs mini/preprocessed_images'\n",
        "os.makedirs(preprocessed_images_dir, exist_ok=True)\n",
        "\n",
        "# Create an ImageDataGenerator for data preprocessing\n",
        "datagen = ImageDataGenerator(\n",
        "    rescale=1.0 / 256,  # Scale pixel values to be in the range [0, 1]\n",
        "    rotation_range=20,\n",
        "    width_shift_range=0.2,\n",
        "    height_shift_range=0.2,\n",
        "    shear_range=0.2,\n",
        "    zoom_range=0.2,\n",
        "    horizontal_flip=True,\n",
        "    fill_mode='nearest'\n",
        ")\n",
        "\n",
        "# Generate and save batches of preprocessed images\n",
        "batch_size = 32\n",
        "target_size = (256, 256)  # Resize images to 256x256 pixels\n",
        "\n",
        "generator = datagen.flow_from_directory(\n",
        "    data_dir,\n",
        "    target_size=target_size,\n",
        "    batch_size=batch_size,\n",
        "    class_mode='binary',  # Use 'categorical' for multi-class classification\n",
        "    save_to_dir=preprocessed_images_dir,  # Specify the directory to save the preprocessed images\n",
        "    save_format='jpeg'  # Format for saved images\n",
        ")\n",
        "\n",
        "# Generate and save the preprocessed images with labels\n",
        "for _ in range(len(generator)):\n",
        "    batch_images, batch_labels = next(generator)\n",
        "    for i, label in enumerate(batch_labels):\n",
        "        if label == 0:\n",
        "            category_folder = 'healthy'\n",
        "        else:\n",
        "            category_folder = 'patient'\n",
        "        image_filename = f'preprocessed_{i}.jpeg'\n",
        "        image_path = os.path.join(preprocessed_images_dir, category_folder, image_filename)\n",
        "        os.makedirs(os.path.join(preprocessed_images_dir, category_folder), exist_ok=True)\n",
        "        tf.keras.preprocessing.image.save_img(image_path, batch_images[i])\n"
      ]
    },
    {
      "cell_type": "code",
      "execution_count": null,
      "metadata": {},
      "outputs": [],
      "source": [
        "# Define paths to your image folders\n",
        "healthy_dir = 'D:/vs mini/preprocessed_images/healthy'\n",
        "patient_dir = 'D:/vs mini/preprocessed_images/patient'"
      ]
    },
    {
      "cell_type": "code",
      "execution_count": null,
      "metadata": {
        "id": "fkMiJNqKUVxd"
      },
      "outputs": [],
      "source": [
        "# Cell 2: Initialize lists to store features and labels\n",
        "all_features = []\n",
        "labels = []\n",
        "\n",
        "# Load pre-trained models\n",
        "resnet_model = ResNet50(weights='imagenet', include_top=False, input_shape=(224, 224, 3))\n",
        "vgg_model = VGG19(weights='imagenet', include_top=False, input_shape=(224, 224, 3))\n",
        "inception_model = InceptionV3(weights='imagenet', include_top=False, input_shape=(224, 224, 3))\n",
        "\n",
        "# Define a function to extract features using a given model and preprocess input\n",
        "def extract_features(model, preprocess_input, img_path):\n",
        "    img = image.load_img(img_path, target_size=(224, 224))\n",
        "    img_array = image.img_to_array(img)\n",
        "    img_array = np.expand_dims(img_array, axis=0)\n",
        "    img_array = preprocess_input(img_array)\n",
        "    features = model.predict(img_array)\n",
        "    return features.flatten()  # Flatten the features\n",
        "\n",
        "# Load, preprocess, and extract features from healthy images\n",
        "for filename in os.listdir(healthy_dir):\n",
        "    img_path = os.path.join(healthy_dir, filename)\n",
        "    resnet_features = extract_features(resnet_model, resnet_preprocess_input, img_path)\n",
        "    vgg_features = extract_features(vgg_model, vgg_preprocess_input, img_path)\n",
        "    inception_features = extract_features(inception_model, inception_preprocess_input, img_path)\n",
        "    combined_features = np.concatenate((resnet_features, vgg_features, inception_features))\n",
        "    all_features.append(combined_features)\n",
        "    labels.append(0)  # Label 0 for healthy\n",
        "\n",
        "# Load, preprocess, and extract features from patient images\n",
        "for filename in os.listdir(patient_dir):\n",
        "    img_path = os.path.join(patient_dir, filename)\n",
        "    resnet_features = extract_features(resnet_model, resnet_preprocess_input, img_path)\n",
        "    vgg_features = extract_features(vgg_model, vgg_preprocess_input, img_path)\n",
        "    inception_features = extract_features(inception_model, inception_preprocess_input, img_path)\n",
        "    combined_features = np.concatenate((resnet_features, vgg_features, inception_features))\n",
        "    all_features.append(combined_features)\n",
        "    labels.append(1)  # Label 1 for patient\n",
        "\n",
        "# Convert lists to numpy arrays\n",
        "X = np.array(all_features)\n",
        "y = np.array(labels)\n"
      ]
    },
    {
      "cell_type": "code",
      "execution_count": null,
      "metadata": {
        "colab": {
          "base_uri": "https://localhost:8080/"
        },
        "id": "HzTeEwRgTtgB",
        "outputId": "e7f37582-a3b8-4d59-cb17-0fddc04f9b14"
      },
      "outputs": [],
      "source": [
        "\n",
        "from sklearn.model_selection import train_test_split\n",
        "random_seed=42\n",
        "X_train, X_test, y_train, y_test = train_test_split(X, y, test_size=0.3, random_state=random_seed)\n",
        "knn = KNeighborsClassifier(n_neighbors=5)\n",
        "knn.fit(X_train,y_train)\n",
        "accuracy = knn.score(X_test, y_test)\n",
        "accuracy\n",
        "\n"
      ]
    },
    {
      "cell_type": "code",
      "execution_count": null,
      "metadata": {},
      "outputs": [],
      "source": [
        "population_size = 20  # Adjust the population size to ensure it's at least as large as selection_size\n"
      ]
    },
    {
      "cell_type": "code",
      "execution_count": null,
      "metadata": {},
      "outputs": [
        {
          "data": {
            "image/png": "[encoded data removed]",
            "text/plain": [
              "<Figure size 1000x600 with 1 Axes>"
            ]
          },
          "metadata": {},
          "output_type": "display_data"
        }
      ],
      "source": [
        "import numpy as np\n",
        "from sklearn.neighbors import KNeighborsClassifier\n",
        "from sklearn.metrics import accuracy_score\n",
        "import matplotlib.pyplot as plt\n",
        "from sklearn.model_selection import train_test_split\n",
        "\n",
        "# Genetic Algorithm Parameters\n",
        "population_sizes = list(range(10, 51, 5))\n",
        "total_iterations = 200\n",
        "crossover_rate = 0.7\n",
        "mutation_rate = 0.3\n",
        "selection_size = 20\n",
        "random_seed = 13\n",
        "\n",
        "# Create an initial population of binary feature vectors\n",
        "def initialize_population(population_size, feature_count):\n",
        "    population = np.random.randint(2, size=(population_size, feature_count))\n",
        "    return population\n",
        "\n",
        "# Calculate fitness (accuracy) for each feature vector\n",
        "def calculate_fitness(population, X, y):\n",
        "    fitness_scores = []\n",
        "    for i in range(population.shape[0]):\n",
        "        selected_features = population[i, :]\n",
        "        # Use the selected features to create a subset of X\n",
        "        subset_X = X[:, selected_features == 1]\n",
        "        # Split the data into training and testing sets (you can adjust this as needed)\n",
        "        X_train, X_test, y_train, y_test = train_test_split(subset_X, y, test_size=0.3, random_state=random_seed)\n",
        "        # Train and evaluate KNN (you can choose a different ML algorithm if needed)\n",
        "        knn = KNeighborsClassifier(n_neighbors=5)\n",
        "        knn.fit(X_train, y_train)\n",
        "        y_pred = knn.predict(X_test)\n",
        "        accuracy = accuracy_score(y_test, y_pred)\n",
        "        fitness_scores.append(accuracy)\n",
        "    return np.array(fitness_scores)\n",
        "\n",
        "# Genetic Algorithm\n",
        "def genetic_algorithm(X, y, population_size):\n",
        "    feature_count = X.shape[1]\n",
        "    population = initialize_population(population_size, feature_count)\n",
        "    \n",
        "    for iteration in range(total_iterations):\n",
        "        # Calculate fitness scores for the current population\n",
        "        fitness_scores = calculate_fitness(population, X, y)\n",
        "        \n",
        "        # Select the top candidates\n",
        "        top_indices = np.argsort(fitness_scores)[-min(selection_size, population_size):]\n",
        "        top_population = population[top_indices, :]\n",
        "        \n",
        "        # Create a new population through crossover and mutation\n",
        "        new_population = []\n",
        "        while len(new_population) < population_size:\n",
        "            # Crossover\n",
        "            parent1 = top_population[np.random.randint(len(top_population))]\n",
        "            parent2 = top_population[np.random.randint(len(top_population))]\n",
        "            crossover_mask = (np.random.rand(feature_count) < crossover_rate).astype(int)\n",
        "            child = (parent1 * crossover_mask) + (parent2 * (1 - crossover_mask))\n",
        "            \n",
        "            # Mutation\n",
        "            mutation_mask = (np.random.rand(feature_count) < mutation_rate).astype(int)\n",
        "            child = (child + mutation_mask) % 2\n",
        "            \n",
        "            new_population.append(child)\n",
        "        \n",
        "        # Update the population\n",
        "        population = np.array(new_population)\n",
        "    \n",
        "    # Find the best candidate\n",
        "    final_fitness_scores = calculate_fitness(population, X, y)\n",
        "    best_accuracy = np.max(final_fitness_scores)\n",
        "    best_vector = population[np.argmax(final_fitness_scores)]\n",
        "    \n",
        "    return best_accuracy, best_vector\n",
        "\n",
        "# Perform the analysis for varying population sizes\n",
        "peak_accuracies = []\n",
        "best_feature_vectors = []  # Store the best feature vectors\n",
        "for population_size in population_sizes:\n",
        "    best_accuracy, best_vector = genetic_algorithm(X, y, population_size)\n",
        "    peak_accuracies.append(best_accuracy)\n",
        "    best_feature_vectors.append(best_vector)\n",
        "\n",
        "# Plot the results\n",
        "plt.figure(figsize=(10, 6))\n",
        "plt.plot(population_sizes, peak_accuracies, marker='o', linestyle='-')\n",
        "plt.title(\"Peak Accuracy vs. Population Size\")\n",
        "plt.xlabel(\"Population Size\")\n",
        "plt.ylabel(\"Peak Accuracy\")\n",
        "plt.grid(True)\n",
        "plt.show()\n",
        "\n",
        "# Now 'best_feature_vectors' contains the best binary vectors for each population size\n"
      ]
    },
    {
      "cell_type": "code",
      "execution_count": null,
      "metadata": {
        "colab": {
          "base_uri": "https://localhost:8080/",
          "height": 245
        },
        "id": "t7FISCDi_SNr",
        "outputId": "052c7306-158d-4c8c-8a0f-4d5befc1c4ba"
      },
      "outputs": [],
      "source": [
        "# Multiply the optimized binary feature vector with the input feature vector\n",
        "optimized_feature_map = X[:, best_vector == 1]\n"
      ]
    },
    {
      "cell_type": "code",
      "execution_count": null,
      "metadata": {
        "colab": {
          "base_uri": "https://localhost:8080/",
          "height": 245
        },
        "id": "HXocwIYs_XSJ",
        "outputId": "250047c8-24d3-430b-d5f4-46df5d83475c"
      },
      "outputs": [
        {
          "name": "stdout",
          "output_type": "stream",
          "text": [
            "Accuracy: 0.8461538461538461\n",
            "Confusion Matrix:\n",
            "[[7 2]\n",
            " [0 4]]\n"
          ]
        }
      ],
      "source": [
        "from sklearn.model_selection import train_test_split\n",
        "from sklearn.neighbors import KNeighborsClassifier\n",
        "from sklearn.metrics import accuracy_score, confusion_matrix\n",
        "\n",
        "# Split the data into a train set (80%) and a test set (20%)\n",
        "X_train, X_test, y_train, y_test = train_test_split(optimized_feature_map, y, test_size=0.2, random_state=random_seed)\n",
        "\n",
        "# Initialize and train the KNN classifier\n",
        "knn = KNeighborsClassifier(n_neighbors=5)\n",
        "knn.fit(X_train, y_train)\n",
        "\n",
        "# Predict the labels on the test set\n",
        "y_pred = knn.predict(X_test)\n",
        "\n",
        "# Calculate accuracy\n",
        "accuracy = accuracy_score(y_test, y_pred)\n",
        "print(\"Accuracy:\", accuracy)\n",
        "\n",
        "# Calculate the confusion matrix\n",
        "conf_matrix = confusion_matrix(y_test, y_pred)\n",
        "print(\"Confusion Matrix:\")\n",
        "print(conf_matrix)\n"
      ]
    },
    {
      "cell_type": "code",
      "execution_count": null,
      "metadata": {},
      "outputs": [],
      "source": [
        "# Select relevant features based on the best binary vector\n",
        "selected_train_features = X_train[:, best_vector == 1]\n",
        "selected_test_features = X_test[:, best_vector == 1]"
      ]
    }
  ],
  "metadata": {
    "accelerator": "TPU",
    "colab": {
      "authorship_tag": "ABX9TyPjdifs2Uh9Ytz842eIPZ5A",
      "include_colab_link": true,
      "provenance": []
    },
    "kernelspec": {
      "display_name": "Python 3",
      "name": "python3"
    },
    "language_info": {
      "codemirror_mode": {
        "name": "ipython",
        "version": 3
      },
      "file_extension": ".py",
      "mimetype": "text/x-python",
      "name": "python",
      "nbconvert_exporter": "python",
      "pygments_lexer": "ipython3",
      "version": "3.11.2"
    }
  },
  "nbformat": 4,
  "nbformat_minor": 0
}
